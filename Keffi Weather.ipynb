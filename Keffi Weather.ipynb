{
 "cells": [
  {
   "cell_type": "code",
   "execution_count": 9,
   "metadata": {},
   "outputs": [
    {
     "data": {
      "text/html": [
       "\n",
       "<style>\n",
       ".output_png {\n",
       "    display: table-cell;\n",
       "    text-align: center;\n",
       "    vertical-align: middle;\n",
       "}\n",
       "</style>\n"
      ],
      "text/plain": [
       "<IPython.core.display.HTML object>"
      ]
     },
     "execution_count": 9,
     "metadata": {},
     "output_type": "execute_result"
    }
   ],
   "source": [
    "from __future__ import print_function\n",
    "from ipywidgets import interact, interactive, fixed, interact_manual\n",
    "from IPython.display import display\n",
    "import ipywidgets as widgets\n",
    "import pandas as pd\n",
    "import matplotlib.pyplot as plt\n",
    "\n",
    "plt.rcParams['figure.figsize'] = [12, 5]\n",
    "\n",
    "from IPython.core.display import HTML\n",
    "HTML(\"\"\"\n",
    "<style>\n",
    ".output_png {\n",
    "    display: table-cell;\n",
    "    text-align: center;\n",
    "    vertical-align: middle;\n",
    "}\n",
    "</style>\n",
    "\"\"\")"
   ]
  },
  {
   "cell_type": "code",
   "execution_count": 18,
   "metadata": {},
   "outputs": [
    {
     "data": {
      "application/vnd.jupyter.widget-view+json": {
       "model_id": "ce470c0fd0bd48cd8e256fa36978cf9f",
       "version_major": 2,
       "version_minor": 0
      },
      "text/plain": [
       "Text(value='2020-01-01 00:00:00', description='Start_Date:', placeholder='Type something')"
      ]
     },
     "metadata": {},
     "output_type": "display_data"
    },
    {
     "data": {
      "application/vnd.jupyter.widget-view+json": {
       "model_id": "dc24f82393bd4749a41e30d713ff262b",
       "version_major": 2,
       "version_minor": 0
      },
      "text/plain": [
       "Text(value='2020-01-01 23:00:00', description='End_Date:', placeholder='Type something')"
      ]
     },
     "metadata": {},
     "output_type": "display_data"
    },
    {
     "data": {
      "application/vnd.jupyter.widget-view+json": {
       "model_id": "72d21bf85a574c588da21be217f4b501",
       "version_major": 2,
       "version_minor": 0
      },
      "text/plain": [
       "Dropdown(description='Data To Plot:', options=('Temperature', 'Dew Point', 'Humidity', 'Wind', 'Wind Speed', '…"
      ]
     },
     "metadata": {},
     "output_type": "display_data"
    }
   ],
   "source": [
    "widgetDataToPlot = widgets.Dropdown(\n",
    "    options=['Temperature', 'Dew Point', 'Humidity','Wind', 'Wind Speed' ,'Wind Gust','Pressure','Precip','Condition'],\n",
    "    value='Temperature',\n",
    "    description='Data To Plot:',\n",
    "    disabled=False,\n",
    ")\n",
    "\n",
    "start_date = widgets.Text(\n",
    "    value='2020-01-01 00:00:00',\n",
    "    placeholder='Type something',\n",
    "    description='Start_Date:',\n",
    "    disabled=False\n",
    ")\n",
    "end_date = widgets.Text(\n",
    "    value='2020-01-01 23:00:00',\n",
    "    placeholder='Type something',\n",
    "    description='End_Date:',\n",
    "    disabled=False\n",
    ")\n",
    "\n",
    "display(start_date,end_date, widgetDataToPlot)"
   ]
  },
  {
   "cell_type": "code",
   "execution_count": 21,
   "metadata": {},
   "outputs": [],
   "source": [
    "start = start_date.value\n",
    "end = end_date.value\n",
    "dataToPlot = widgetDataToPlot.value"
   ]
  },
  {
   "cell_type": "code",
   "execution_count": 22,
   "metadata": {},
   "outputs": [
    {
     "data": {
      "image/png": "[encoded data removed]",
      "text/plain": [
       "<Figure size 864x360 with 1 Axes>"
      ]
     },
     "metadata": {
      "needs_background": "light"
     },
     "output_type": "display_data"
    }
   ],
   "source": [
    "df = pd.read_excel('Keffi_Weather_Combined.xlsx')\n",
    "p = pd.date_range(start='1/1/2014',periods=len(df),freq='1H' )\n",
    "df.set_index(p,inplace=True)\n",
    "\n",
    "rng = df[start:end]\n",
    "\n",
    "temperature = rng.Temperature\n",
    "dewPoint = rng.Dew_Point\n",
    "humidity = rng.Humidity\n",
    "wind = rng.Wind\n",
    "windSpeed = rng.Wind_Speed\n",
    "windGust = rng.Wind_Gust\n",
    "pressure = rng.Pressure\n",
    "precip = rng.Precip\n",
    "condition = rng.Condition\n",
    "\n",
    "df['Temperature'] = temperature\n",
    "df['Dew_Point'] = dewPoint\n",
    "df['Humidity'] = humidity\n",
    "df['Wind'] = wind\n",
    "df['Wind_Speed'] = windSpeed\n",
    "df['Wind_Gust'] = windGust\n",
    "df['Pressure'] = pressure\n",
    "df['Precip'] = precip\n",
    "df['Condition'] = condition \n",
    "\n",
    "temp1 = temperature.dropna(how='any').astype('str')\n",
    "dewP1 = dewPoint.dropna(how='any').astype('str')\n",
    "humidity1 = humidity.dropna(how='any').astype('str')\n",
    "wind1 = wind.dropna(how='any').astype('str')\n",
    "windSpeed1 = windSpeed.dropna(how='any').astype('str')\n",
    "windGust1 = windGust.dropna(how='any').astype('str')\n",
    "pressure1 = pressure.dropna(how='any').astype('str')\n",
    "precip1 = precip.dropna(how='any').astype('str')\n",
    "condition1 = condition.dropna(how='any').astype('str')\n",
    "\n",
    "temp2 = temp1.str.extract(r'([0-9]+)')\n",
    "dewP2 = dewP1.str.extract(r'([0-9]+)')\n",
    "humidity2 = humidity1.str.extract(r'([0-9]+)')\n",
    "wind2 = wind1\n",
    "windSpeed2 = windSpeed1.str.extract(r'([0-9]+)')\n",
    "windGust2 = windGust1.str.extract(r'([0-9]+)')\n",
    "pressure2 = pressure1.str.extract(r'([\\d\\.\\d]+)')\n",
    "precip2 = precip1.str.extract(r'([\\d\\.\\d]+)')\n",
    "condition2 = condition1\n",
    "\n",
    "df['Temperature'] = temp2\n",
    "df['Dew_Point'] = dewP2\n",
    "df['Humidity'] = humidity2\n",
    "df['Wind'] = wind2\n",
    "df['Wind_Speed'] = windSpeed2\n",
    "df['Wind_Gust'] = windGust2\n",
    "df['Pressure'] = pressure2\n",
    "df['Precip'] = precip2\n",
    "df['Condition'] = condition2\n",
    "\n",
    "temp3 = df['Temperature'].dropna(how='any').astype('str')\n",
    "dewP3 = df['Dew_Point'].dropna(how='any').astype('str')\n",
    "humidity3 = df['Humidity'].dropna(how='any').astype('str')\n",
    "wind3 = df['Wind'].dropna(how='any').astype('str')\n",
    "windSpeed3 = df['Wind_Speed'].dropna(how='any').astype('str')\n",
    "windGust3 = df['Wind_Gust'].dropna(how='any').astype('str')\n",
    "pressure3 = df['Pressure'].dropna(how='any').astype('str')\n",
    "precip3 = df['Precip'].dropna(how='any').astype('str')\n",
    "condition3 = df['Condition'].dropna(how='any').astype('str')\n",
    "\n",
    "# Temperature and Dew Point in Celsius\n",
    "temp = (temp3.astype('float') -32) * (5/9)\n",
    "dewP = (dewP3.astype('float') - 32) * (5/9)\n",
    "\n",
    "hum = humidity3.astype('int')\n",
    "w = wind3\n",
    "\n",
    "#Wind Speed and Wind Gust in kmh\n",
    "wS = windSpeed3.astype('float') * 1.60934\n",
    "wG = windGust3.astype('float') * 1.60934\n",
    "press = pressure3.astype('float')\n",
    "preC = precip3.astype('float')\n",
    "c = condition3\n",
    "\n",
    "if(dataToPlot == 'Temperature'):\n",
    "    plt.plot(temp,\"-o\")\n",
    "    plt.xlabel(\"Time(Hours)\")\n",
    "    plt.ylabel(\"Temperature(C)\")\n",
    "elif(dataToPlot == 'Dew Point'):\n",
    "    plt.plot(dewP,\"-o\")\n",
    "    plt.xlabel(\"Time(Hours)\")\n",
    "    plt.ylabel(\"Dew Point(C)\")\n",
    "elif(dataToPlot == 'Humidity'):\n",
    "    plt.plot(hum,\"-o\")\n",
    "    plt.xlabel(\"Time(Hours)\")\n",
    "    plt.ylabel(\"Humidity(%)\")\n",
    "elif(dataToPlot == 'Wind'):\n",
    "    plt.plot(w,\"-o\")\n",
    "    plt.xlabel(\"Time(Hours)\")\n",
    "    plt.ylabel(\"Wind\")\n",
    "elif(dataToPlot == 'Wind Speed'):\n",
    "    plt.plot(wS,\"-o\")\n",
    "    plt.xlabel(\"Time(Hours)\")\n",
    "    plt.ylabel(\"Wind Speed(kmh)\")\n",
    "elif(dataToPlot == 'Wind Gust'):\n",
    "    plt.plot(wG,\"-o\")\n",
    "    plt.xlabel(\"Time(Hours)\")\n",
    "    plt.ylabel(\"Wind Gust(kmh)\")\n",
    "elif(dataToPlot == 'Pressure'):\n",
    "    plt.plot(press,\"-o\")\n",
    "    plt.xlabel(\"Time(Hours)\")\n",
    "    plt.ylabel(\"Pressure(in)\")\n",
    "elif(dataToPlot == 'Precip'):\n",
    "    plt.plot(preC,\"-o\")\n",
    "    plt.xlabel(\"Time(Hours)\")\n",
    "    plt.ylabel(\"Precip(in)\")\n",
    "elif(dataToPlot == 'Condition'):\n",
    "    plt.plot(c,\"-o\")\n",
    "    plt.xlabel(\"Time(Hours)\")\n",
    "    plt.ylabel(\"Condition\")\n",
    "else:\n",
    "    print(\"Enter a correct data to plot\")"
   ]
  },
  {
   "cell_type": "code",
   "execution_count": null,
   "metadata": {},
   "outputs": [],
   "source": []
  }
 ],
 "metadata": {
  "kernelspec": {
   "display_name": "Python 3",
   "language": "python",
   "name": "python3"
  },
  "language_info": {
   "codemirror_mode": {
    "name": "ipython",
    "version": 3
   },
   "file_extension": ".py",
   "mimetype": "text/x-python",
   "name": "python",
   "nbconvert_exporter": "python",
   "pygments_lexer": "ipython3",
   "version": "3.7.3"
  }
 },
 "nbformat": 4,
 "nbformat_minor": 2
}
